{
 "cells": [
  {
   "cell_type": "code",
   "execution_count": 1,
   "metadata": {
    "collapsed": false
   },
   "outputs": [],
   "source": [
    "#This is the exercise 1 for the SciNet Python Class\n",
    "\n",
    "#load modules and define essentials\n",
    "from numpy import *\n",
    "from pylab import *\n",
    "import scipy.optimize\n",
    "\n",
    "\n",
    "#define the danger function\n",
    "\n",
    "def danger(n, ntyp):\n",
    "    return n-ntyp*log(n)\n",
    "\n",
    "#define constants\n",
    "ntyp=pi\n",
    "lbound=0.01\n",
    "ubound=1.0e7\n",
    "tolerance=1.0e-12\n",
    "\n"
   ]
  },
  {
   "cell_type": "code",
   "execution_count": 2,
   "metadata": {
    "collapsed": false
   },
   "outputs": [
    {
     "name": "stdout",
     "output_type": "stream",
     "text": [
      "3.14159261623\n",
      "3.73614779114e-08\n"
     ]
    }
   ],
   "source": [
    "#find the minimum using package function\n",
    "minimum = scipy.optimize.minimize_scalar(danger,args=(ntyp,),bounds=(lbound,ubound),method='bounded',options={'xatol':tolerance})\n",
    "\n",
    "#print results\n",
    "print minimum.x\n",
    "print ntyp-minimum.x\n"
   ]
  },
  {
   "cell_type": "code",
   "execution_count": 4,
   "metadata": {
    "collapsed": false
   },
   "outputs": [
    {
     "name": "stdout",
     "output_type": "stream",
     "text": [
      "3.1415927\n",
      "-4.64102067887e-08\n"
     ]
    }
   ],
   "source": [
    "#find minimum using brute force\n",
    "\n",
    "#set constants for the grid\n",
    "ngrid=1.0e7\n",
    "spacing=1/ngrid\n",
    "\n",
    "#compute the value of the danger function at gridpoints\n",
    "Grid=(arange(0,10,spacing)+spacing)\n",
    "Value=danger(Grid,ntyp)\n",
    "\n",
    "#Since the function has one minimum, we can use a simple loop to find it.\n",
    "for ii in range(size(Grid)-1):\n",
    "    if Value[ii+1]<=Value[ii]:\n",
    "        Min=Grid[ii+1]\n",
    "        \n",
    "\n",
    "#Print result\n",
    "print Min\n",
    "print ntyp-Min\n"
   ]
  },
  {
   "cell_type": "markdown",
   "metadata": {},
   "source": [
    "### "
   ]
  },
  {
   "cell_type": "code",
   "execution_count": null,
   "metadata": {
    "collapsed": true
   },
   "outputs": [],
   "source": []
  }
 ],
 "metadata": {
  "kernelspec": {
   "display_name": "Python 2",
   "language": "python",
   "name": "python2"
  },
  "language_info": {
   "codemirror_mode": {
    "name": "ipython",
    "version": 2
   },
   "file_extension": ".py",
   "mimetype": "text/x-python",
   "name": "python",
   "nbconvert_exporter": "python",
   "pygments_lexer": "ipython2",
   "version": "2.7.10"
  }
 },
 "nbformat": 4,
 "nbformat_minor": 0
}
